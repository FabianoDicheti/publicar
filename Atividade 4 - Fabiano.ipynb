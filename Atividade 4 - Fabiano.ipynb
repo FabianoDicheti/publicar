{
 "cells": [
  {
   "cell_type": "markdown",
   "id": "646953e8",
   "metadata": {},
   "source": [
    "# Atividade 04 - Inteligência Computacional\n",
    "## Fabiano Dicheti"
   ]
  },
  {
   "cell_type": "markdown",
   "id": "746f5e32",
   "metadata": {},
   "source": [
    "#### Aplicar um classificador na base de dados MNIST reduzida por Encoder, avaliando sua acurácia em conjuntos de treinamento e teste. "
   ]
  },
  {
   "cell_type": "markdown",
   "id": "ffc41357",
   "metadata": {},
   "source": [
    "## Usei um auto-encoder, peguei as imagens codificadas e usei para treinar uma CNN. \n",
    "## Para fazer as classificações,  no teste, primeiro codifico as imagens e então uso as imagens codificadas como input do modelo.\n",
    "## Levou cerca de 2 horas para executar o script (treinamentos).\n",
    "## O resultado foi  91,38% para treino e 91,51% para teste.\n",
    "### obs: rodei local, não usei o colab."
   ]
  },
  {
   "cell_type": "markdown",
   "id": "806d4b79",
   "metadata": {},
   "source": [
    "## Importando as Bibliotecas"
   ]
  },
  {
   "cell_type": "code",
   "execution_count": 1,
   "id": "79f560f1",
   "metadata": {},
   "outputs": [],
   "source": [
    "import tensorflow.keras\n",
    "from  tensorflow.keras.datasets import mnist\n",
    "from matplotlib import pyplot as plt\n",
    "import numpy as np\n",
    "import gzip\n",
    "%matplotlib inline\n",
    "from tensorflow.keras.models import Model\n",
    "from tensorflow.keras.optimizers import RMSprop\n",
    "from tensorflow.keras.layers import Input,Dense,Flatten,Dropout,Reshape,Conv2D,MaxPooling2D,UpSampling2D,Conv2DTranspose\n",
    "from tensorflow.keras.layers import BatchNormalization\n",
    "from tensorflow.keras.models import Model,Sequential\n",
    "from tensorflow.keras.callbacks import ModelCheckpoint\n",
    "from tensorflow.keras.optimizers import Adadelta, RMSprop,SGD,Adam\n",
    "from tensorflow.keras import regularizers\n",
    "from tensorflow.keras import backend as K\n",
    "from tensorflow.keras.utils import to_categorical\n",
    "from sklearn.model_selection import train_test_split"
   ]
  },
  {
   "cell_type": "markdown",
   "id": "3542727b",
   "metadata": {},
   "source": [
    "## Carregando os Dados, Separados em Conjunto de Teste e Treinamento"
   ]
  },
  {
   "cell_type": "code",
   "execution_count": 2,
   "id": "88b0450e",
   "metadata": {},
   "outputs": [],
   "source": [
    "def extract_data(filename, num_images):\n",
    "    with gzip.open(filename) as bytestream:\n",
    "        bytestream.read(16)\n",
    "        buf = bytestream.read(28 * 28 * num_images)\n",
    "        data = np.frombuffer(buf, dtype=np.uint8).astype(np.float32)\n",
    "        data = data.reshape(num_images, 28,28)\n",
    "        return data\n",
    "\n",
    "    \n",
    "def extract_labels(filename, num_images):\n",
    "    with gzip.open(filename) as bytestream:\n",
    "        bytestream.read(8)\n",
    "        buf = bytestream.read(1 * num_images)\n",
    "        labels = np.frombuffer(buf, dtype=np.uint8).astype(np.int64)\n",
    "        return labels"
   ]
  },
  {
   "cell_type": "code",
   "execution_count": 3,
   "id": "d962d53a",
   "metadata": {},
   "outputs": [],
   "source": [
    "train_data = extract_data('train-images-idx3-ubyte.gz', 60000)\n",
    "test_data = extract_data('t10k-images-idx3-ubyte.gz', 10000)\n",
    "\n",
    "train_labels = extract_labels('train-labels-idx1-ubyte.gz',60000)\n",
    "test_labels = extract_labels('t10k-labels-idx1-ubyte.gz',10000)"
   ]
  },
  {
   "cell_type": "code",
   "execution_count": 4,
   "id": "820a1fb7",
   "metadata": {},
   "outputs": [],
   "source": [
    "label_dict = {0: 'A', 1: 'B', 2: 'C', 3: 'D', 4: 'E', 5: 'F', 6: 'G', 7: 'H', 8: 'I', 9: 'J',}\n"
   ]
  },
  {
   "cell_type": "code",
   "execution_count": 6,
   "id": "758275d4",
   "metadata": {},
   "outputs": [
    {
     "data": {
      "text/plain": [
       "(dtype('float32'), dtype('float32'))"
      ]
     },
     "execution_count": 6,
     "metadata": {},
     "output_type": "execute_result"
    }
   ],
   "source": [
    "train_data = train_data.reshape(-1, 28,28, 1)\n",
    "test_data = test_data.reshape(-1, 28,28, 1)\n",
    "train_data.shape, test_data.shape\n",
    "train_data.dtype, test_data.dtype"
   ]
  },
  {
   "cell_type": "markdown",
   "id": "f1ec34af",
   "metadata": {},
   "source": [
    "## Escalando o Valor dos Pixels das Imagens"
   ]
  },
  {
   "cell_type": "code",
   "execution_count": 7,
   "id": "a0d48b83",
   "metadata": {},
   "outputs": [],
   "source": [
    "train_data = train_data / np.max(train_data)\n",
    "test_data = test_data / np.max(test_data)"
   ]
  },
  {
   "cell_type": "markdown",
   "id": "f6c91346",
   "metadata": {},
   "source": [
    "## Definindo a proporcao dos conjuntos"
   ]
  },
  {
   "cell_type": "code",
   "execution_count": 8,
   "id": "cf024cd9",
   "metadata": {},
   "outputs": [],
   "source": [
    "from sklearn.model_selection import train_test_split\n",
    "train_X,valid_X,train_ground,valid_ground = train_test_split(train_data,\n",
    "                                                             train_data,\n",
    "                                                             test_size=0.2,\n",
    "                                                             random_state=13)"
   ]
  },
  {
   "cell_type": "markdown",
   "id": "a3b37f91",
   "metadata": {},
   "source": [
    "## Definindo Parâmetros"
   ]
  },
  {
   "cell_type": "code",
   "execution_count": 9,
   "id": "fd475c12",
   "metadata": {},
   "outputs": [],
   "source": [
    "batch_size = 64\n",
    "epochs = 20\n",
    "inChannel = 1\n",
    "x, y = 28, 28\n",
    "input_img = Input(shape = (x, y, inChannel))\n",
    "num_classes = 10"
   ]
  },
  {
   "cell_type": "markdown",
   "id": "54d54d39",
   "metadata": {},
   "source": [
    "## Arquitetura"
   ]
  },
  {
   "cell_type": "code",
   "execution_count": 10,
   "id": "95d242fc",
   "metadata": {},
   "outputs": [],
   "source": [
    "def encoder(input_img):\n",
    "    conv1 = Conv2D(32, (3, 3), activation='relu', padding='same')(input_img) #28 x 28 x 32\n",
    "    conv1 = BatchNormalization()(conv1)\n",
    "    conv1 = Conv2D(32, (3, 3), activation='relu', padding='same')(conv1)\n",
    "    conv1 = BatchNormalization()(conv1)\n",
    "    pool1 = MaxPooling2D(pool_size=(2, 2))(conv1) #14 x 14 x 32\n",
    "    conv2 = Conv2D(64, (3, 3), activation='relu', padding='same')(pool1) #14 x 14 x 64\n",
    "    conv2 = BatchNormalization()(conv2)\n",
    "    conv2 = Conv2D(64, (3, 3), activation='relu', padding='same')(conv2)\n",
    "    conv2 = BatchNormalization()(conv2)\n",
    "    pool2 = MaxPooling2D(pool_size=(2, 2))(conv2) #7 x 7 x 64\n",
    "    conv3 = Conv2D(128, (3, 3), activation='relu', padding='same')(pool2) #7 x 7 x 128 (small and thick)\n",
    "    conv3 = BatchNormalization()(conv3)\n",
    "    conv3 = Conv2D(128, (3, 3), activation='relu', padding='same')(conv3)\n",
    "    conv3 = BatchNormalization()(conv3)\n",
    "    conv4 = Conv2D(256, (3, 3), activation='relu', padding='same')(conv3) #7 x 7 x 256 (small and thick)\n",
    "    conv4 = BatchNormalization()(conv4)\n",
    "    conv4 = Conv2D(256, (3, 3), activation='relu', padding='same')(conv4)\n",
    "    conv4 = BatchNormalization()(conv4)\n",
    "    return conv4\n",
    "\n",
    "def decoder(conv4):    \n",
    "    conv5 = Conv2D(128, (3, 3), activation='relu', padding='same')(conv4) #7 x 7 x 128\n",
    "    conv5 = BatchNormalization()(conv5)\n",
    "    conv5 = Conv2D(128, (3, 3), activation='relu', padding='same')(conv5)\n",
    "    conv5 = BatchNormalization()(conv5)\n",
    "    conv6 = Conv2D(64, (3, 3), activation='relu', padding='same')(conv5) #7 x 7 x 64\n",
    "    conv6 = BatchNormalization()(conv6)\n",
    "    conv6 = Conv2D(64, (3, 3), activation='relu', padding='same')(conv6)\n",
    "    conv6 = BatchNormalization()(conv6)\n",
    "    up1 = UpSampling2D((2,2))(conv6) #14 x 14 x 64\n",
    "    conv7 = Conv2D(32, (3, 3), activation='relu', padding='same')(up1) # 14 x 14 x 32\n",
    "    conv7 = BatchNormalization()(conv7)\n",
    "    conv7 = Conv2D(32, (3, 3), activation='relu', padding='same')(conv7)\n",
    "    conv7 = BatchNormalization()(conv7)\n",
    "    up2 = UpSampling2D((2,2))(conv7) # 28 x 28 x 32\n",
    "    decoded = Conv2D(1, (3, 3), activation='sigmoid', padding='same')(up2) # 28 x 28 x 1\n",
    "    return decoded"
   ]
  },
  {
   "cell_type": "code",
   "execution_count": 14,
   "id": "f2dc6d27",
   "metadata": {},
   "outputs": [
    {
     "name": "stdout",
     "output_type": "stream",
     "text": [
      "Model: \"model_2\"\n",
      "_________________________________________________________________\n",
      "Layer (type)                 Output Shape              Param #   \n",
      "=================================================================\n",
      "input_1 (InputLayer)         [(None, 28, 28, 1)]       0         \n",
      "_________________________________________________________________\n",
      "conv2d_30 (Conv2D)           (None, 28, 28, 32)        320       \n",
      "_________________________________________________________________\n",
      "batch_normalization_28 (Batc (None, 28, 28, 32)        128       \n",
      "_________________________________________________________________\n",
      "conv2d_31 (Conv2D)           (None, 28, 28, 32)        9248      \n",
      "_________________________________________________________________\n",
      "batch_normalization_29 (Batc (None, 28, 28, 32)        128       \n",
      "_________________________________________________________________\n",
      "max_pooling2d_4 (MaxPooling2 (None, 14, 14, 32)        0         \n",
      "_________________________________________________________________\n",
      "conv2d_32 (Conv2D)           (None, 14, 14, 64)        18496     \n",
      "_________________________________________________________________\n",
      "batch_normalization_30 (Batc (None, 14, 14, 64)        256       \n",
      "_________________________________________________________________\n",
      "conv2d_33 (Conv2D)           (None, 14, 14, 64)        36928     \n",
      "_________________________________________________________________\n",
      "batch_normalization_31 (Batc (None, 14, 14, 64)        256       \n",
      "_________________________________________________________________\n",
      "max_pooling2d_5 (MaxPooling2 (None, 7, 7, 64)          0         \n",
      "_________________________________________________________________\n",
      "conv2d_34 (Conv2D)           (None, 7, 7, 128)         73856     \n",
      "_________________________________________________________________\n",
      "batch_normalization_32 (Batc (None, 7, 7, 128)         512       \n",
      "_________________________________________________________________\n",
      "conv2d_35 (Conv2D)           (None, 7, 7, 128)         147584    \n",
      "_________________________________________________________________\n",
      "batch_normalization_33 (Batc (None, 7, 7, 128)         512       \n",
      "_________________________________________________________________\n",
      "conv2d_36 (Conv2D)           (None, 7, 7, 256)         295168    \n",
      "_________________________________________________________________\n",
      "batch_normalization_34 (Batc (None, 7, 7, 256)         1024      \n",
      "_________________________________________________________________\n",
      "conv2d_37 (Conv2D)           (None, 7, 7, 256)         590080    \n",
      "_________________________________________________________________\n",
      "batch_normalization_35 (Batc (None, 7, 7, 256)         1024      \n",
      "_________________________________________________________________\n",
      "conv2d_38 (Conv2D)           (None, 7, 7, 128)         295040    \n",
      "_________________________________________________________________\n",
      "batch_normalization_36 (Batc (None, 7, 7, 128)         512       \n",
      "_________________________________________________________________\n",
      "conv2d_39 (Conv2D)           (None, 7, 7, 128)         147584    \n",
      "_________________________________________________________________\n",
      "batch_normalization_37 (Batc (None, 7, 7, 128)         512       \n",
      "_________________________________________________________________\n",
      "conv2d_40 (Conv2D)           (None, 7, 7, 64)          73792     \n",
      "_________________________________________________________________\n",
      "batch_normalization_38 (Batc (None, 7, 7, 64)          256       \n",
      "_________________________________________________________________\n",
      "conv2d_41 (Conv2D)           (None, 7, 7, 64)          36928     \n",
      "_________________________________________________________________\n",
      "batch_normalization_39 (Batc (None, 7, 7, 64)          256       \n",
      "_________________________________________________________________\n",
      "up_sampling2d_4 (UpSampling2 (None, 14, 14, 64)        0         \n",
      "_________________________________________________________________\n",
      "conv2d_42 (Conv2D)           (None, 14, 14, 32)        18464     \n",
      "_________________________________________________________________\n",
      "batch_normalization_40 (Batc (None, 14, 14, 32)        128       \n",
      "_________________________________________________________________\n",
      "conv2d_43 (Conv2D)           (None, 14, 14, 32)        9248      \n",
      "_________________________________________________________________\n",
      "batch_normalization_41 (Batc (None, 14, 14, 32)        128       \n",
      "_________________________________________________________________\n",
      "up_sampling2d_5 (UpSampling2 (None, 28, 28, 32)        0         \n",
      "_________________________________________________________________\n",
      "conv2d_44 (Conv2D)           (None, 28, 28, 1)         289       \n",
      "=================================================================\n",
      "Total params: 1,758,657\n",
      "Trainable params: 1,755,841\n",
      "Non-trainable params: 2,816\n",
      "_________________________________________________________________\n"
     ]
    }
   ],
   "source": [
    "autoencoder = Model(input_img, decoder(encoder(input_img)))\n",
    "autoencoder.compile(loss='mean_squared_error', optimizer = RMSprop(), metrics = ['Accuracy'])\n",
    "autoencoder.summary()"
   ]
  },
  {
   "cell_type": "markdown",
   "id": "17ccb8f3",
   "metadata": {},
   "source": [
    "## Treinando a Arquitetura, Gerando Modelo"
   ]
  },
  {
   "cell_type": "code",
   "execution_count": 15,
   "id": "a2a056db",
   "metadata": {
    "scrolled": true
   },
   "outputs": [
    {
     "name": "stdout",
     "output_type": "stream",
     "text": [
      "Epoch 1/20\n",
      "750/750 [==============================] - 348s 461ms/step - loss: 0.0200 - accuracy: 1.6568e-04 - val_loss: 0.0089 - val_accuracy: 0.0000e+00\n",
      "Epoch 2/20\n",
      "750/750 [==============================] - 333s 445ms/step - loss: 0.0083 - accuracy: 4.0205e-05 - val_loss: 0.0101 - val_accuracy: 3.4800e-04\n",
      "Epoch 3/20\n",
      "750/750 [==============================] - 366s 488ms/step - loss: 0.0067 - accuracy: 2.5882e-05 - val_loss: 0.0065 - val_accuracy: 6.9090e-06\n",
      "Epoch 4/20\n",
      "750/750 [==============================] - 368s 491ms/step - loss: 0.0059 - accuracy: 8.7160e-06 - val_loss: 0.0058 - val_accuracy: 1.8920e-05\n",
      "Epoch 5/20\n",
      "750/750 [==============================] - 365s 486ms/step - loss: 0.0050 - accuracy: 1.4509e-05 - val_loss: 0.0099 - val_accuracy: 0.0011\n",
      "Epoch 6/20\n",
      "750/750 [==============================] - 293s 390ms/step - loss: 0.0045 - accuracy: 9.0614e-06 - val_loss: 0.0043 - val_accuracy: 1.9143e-04\n",
      "Epoch 7/20\n",
      "750/750 [==============================] - 296s 395ms/step - loss: 0.0040 - accuracy: 4.4909e-06 - val_loss: 0.0052 - val_accuracy: 3.8892e-04\n",
      "Epoch 8/20\n",
      "750/750 [==============================] - 313s 417ms/step - loss: 0.0037 - accuracy: 7.8391e-06 - val_loss: 0.0045 - val_accuracy: 3.2228e-04\n",
      "Epoch 9/20\n",
      "750/750 [==============================] - 314s 419ms/step - loss: 0.0034 - accuracy: 7.8656e-06 - val_loss: 0.0037 - val_accuracy: 2.0249e-04\n",
      "Epoch 10/20\n",
      "750/750 [==============================] - 334s 445ms/step - loss: 0.0032 - accuracy: 1.0045e-05 - val_loss: 0.0031 - val_accuracy: 9.5663e-07\n",
      "Epoch 11/20\n",
      "750/750 [==============================] - 360s 481ms/step - loss: 0.0030 - accuracy: 1.8601e-06 - val_loss: 0.0032 - val_accuracy: 1.0757e-04\n",
      "Epoch 12/20\n",
      "750/750 [==============================] - 360s 480ms/step - loss: 0.0029 - accuracy: 1.0629e-07 - val_loss: 0.0027 - val_accuracy: 7.4405e-07\n",
      "Epoch 13/20\n",
      "750/750 [==============================] - 337s 449ms/step - loss: 0.0027 - accuracy: 5.5804e-07 - val_loss: 0.0030 - val_accuracy: 0.0000e+00\n",
      "Epoch 14/20\n",
      "750/750 [==============================] - 337s 449ms/step - loss: 0.0026 - accuracy: 1.3818e-06 - val_loss: 0.0028 - val_accuracy: 1.0629e-07\n",
      "Epoch 15/20\n",
      "750/750 [==============================] - 311s 415ms/step - loss: 0.0025 - accuracy: 4.5174e-07 - val_loss: 0.0023 - val_accuracy: 4.2517e-07\n",
      "Epoch 16/20\n",
      "750/750 [==============================] - 306s 408ms/step - loss: 0.0024 - accuracy: 3.4545e-07 - val_loss: 0.0024 - val_accuracy: 0.0000e+00\n",
      "Epoch 17/20\n",
      "750/750 [==============================] - 615s 820ms/step - loss: 0.0023 - accuracy: 4.2517e-07 - val_loss: 0.0024 - val_accuracy: 6.3776e-07\n",
      "Epoch 18/20\n",
      "750/750 [==============================] - 394s 526ms/step - loss: 0.0023 - accuracy: 1.0629e-06 - val_loss: 0.0032 - val_accuracy: 2.7423e-05\n",
      "Epoch 19/20\n",
      "750/750 [==============================] - 386s 515ms/step - loss: 0.0022 - accuracy: 3.7202e-07 - val_loss: 0.0022 - val_accuracy: 2.1259e-07\n",
      "Epoch 20/20\n",
      "750/750 [==============================] - 367s 489ms/step - loss: 0.0021 - accuracy: 3.9860e-07 - val_loss: 0.0022 - val_accuracy: 1.5944e-06\n"
     ]
    }
   ],
   "source": [
    "autoencoder_train = autoencoder.fit(train_X, train_ground, batch_size=batch_size,epochs=epochs,verbose=1,validation_data=(valid_X, valid_ground))\n"
   ]
  },
  {
   "cell_type": "markdown",
   "id": "d5906907",
   "metadata": {},
   "source": [
    "## Verificando Acurácia"
   ]
  },
  {
   "cell_type": "code",
   "execution_count": 16,
   "id": "0be6ebc9",
   "metadata": {},
   "outputs": [
    {
     "data": {
      "image/png": "[encoded data removed]",
      "text/plain": [
       "<Figure size 432x288 with 1 Axes>"
      ]
     },
     "metadata": {
      "needs_background": "light"
     },
     "output_type": "display_data"
    }
   ],
   "source": [
    "loss = autoencoder_train.history['loss']\n",
    "val_loss = autoencoder_train.history['val_loss']\n",
    "epochs = range(20)\n",
    "plt.figure()\n",
    "plt.plot(epochs, loss, 'bo', label='Training loss')\n",
    "plt.plot(epochs, val_loss, 'b', label='Validation loss')\n",
    "plt.title('Training and validation loss')\n",
    "plt.legend()\n",
    "plt.show()"
   ]
  },
  {
   "cell_type": "markdown",
   "id": "1d5a7abb",
   "metadata": {},
   "source": [
    "## Mudando os Rotulos Para matriz Booleana"
   ]
  },
  {
   "cell_type": "code",
   "execution_count": 17,
   "id": "052b603a",
   "metadata": {},
   "outputs": [
    {
     "name": "stdout",
     "output_type": "stream",
     "text": [
      "Rotulo Original: 9\n",
      "Novo Rotulo: [0. 0. 0. 0. 0. 0. 0. 0. 0. 1.]\n"
     ]
    }
   ],
   "source": [
    "train_Y_one_hot = to_categorical(train_labels)\n",
    "test_Y_one_hot = to_categorical(test_labels)\n",
    "\n",
    "print('Rotulo Original:', train_labels[0])\n",
    "print('Novo Rotulo:', train_Y_one_hot[0])"
   ]
  },
  {
   "cell_type": "markdown",
   "id": "45aacd3f",
   "metadata": {},
   "source": [
    "## Preparando Dados de Teste e Treino Para o Classificador"
   ]
  },
  {
   "cell_type": "code",
   "execution_count": 19,
   "id": "b6f32485",
   "metadata": {},
   "outputs": [],
   "source": [
    "train_X,valid_X,train_label,valid_label = train_test_split(train_data,train_Y_one_hot,test_size=0.2,random_state=13)"
   ]
  },
  {
   "cell_type": "markdown",
   "id": "62b8c550",
   "metadata": {},
   "source": [
    "## Redefinindo o Econder para usar dentro do Classificador"
   ]
  },
  {
   "cell_type": "code",
   "execution_count": 20,
   "id": "342b9752",
   "metadata": {},
   "outputs": [],
   "source": [
    "def encoder(input_img):\n",
    "    conv1 = Conv2D(32, (3, 3), activation='relu', padding='same')(input_img) #28 x 28 x 32\n",
    "    conv1 = BatchNormalization()(conv1)\n",
    "    conv1 = Conv2D(32, (3, 3), activation='relu', padding='same')(conv1)\n",
    "    conv1 = BatchNormalization()(conv1)\n",
    "    pool1 = MaxPooling2D(pool_size=(2, 2))(conv1) #14 x 14 x 32\n",
    "    conv2 = Conv2D(64, (3, 3), activation='relu', padding='same')(pool1) #14 x 14 x 64\n",
    "    conv2 = BatchNormalization()(conv2)\n",
    "    conv2 = Conv2D(64, (3, 3), activation='relu', padding='same')(conv2)\n",
    "    conv2 = BatchNormalization()(conv2)\n",
    "    pool2 = MaxPooling2D(pool_size=(2, 2))(conv2) #7 x 7 x 64\n",
    "    conv3 = Conv2D(128, (3, 3), activation='relu', padding='same')(pool2) #7 x 7 x 128 (small and thick)\n",
    "    conv3 = BatchNormalization()(conv3)\n",
    "    conv3 = Conv2D(128, (3, 3), activation='relu', padding='same')(conv3)\n",
    "    conv3 = BatchNormalization()(conv3)\n",
    "    conv4 = Conv2D(256, (3, 3), activation='relu', padding='same')(conv3) #7 x 7 x 256 (small and thick)\n",
    "    conv4 = BatchNormalization()(conv4)\n",
    "    conv4 = Conv2D(256, (3, 3), activation='relu', padding='same')(conv4)\n",
    "    conv4 = BatchNormalization()(conv4)\n",
    "    return conv4"
   ]
  },
  {
   "cell_type": "markdown",
   "id": "21c04bfa",
   "metadata": {},
   "source": [
    "## Criando a Funcao do Flatten"
   ]
  },
  {
   "cell_type": "code",
   "execution_count": 21,
   "id": "5628bacc",
   "metadata": {},
   "outputs": [],
   "source": [
    "def fc(enco):\n",
    "    flat = Flatten()(enco)\n",
    "    den = Dense(128, activation='relu')(flat)\n",
    "    out = Dense(num_classes, activation='softmax')(den)\n",
    "    return out"
   ]
  },
  {
   "cell_type": "code",
   "execution_count": 22,
   "id": "60cfeda1",
   "metadata": {},
   "outputs": [],
   "source": [
    "encode = encoder(input_img)\n",
    "full_model = Model(input_img,fc(encode))"
   ]
  },
  {
   "cell_type": "code",
   "execution_count": 23,
   "id": "a8b4a679",
   "metadata": {},
   "outputs": [],
   "source": [
    "for l1,l2 in zip(full_model.layers[:19],autoencoder.layers[0:19]):\n",
    "    l1.set_weights(l2.get_weights())"
   ]
  },
  {
   "cell_type": "markdown",
   "id": "d2ac1649",
   "metadata": {},
   "source": [
    "## Conferindo os Pesos do Autoencoder Com os do Flatten \n",
    "### (A Tem que dar igual)"
   ]
  },
  {
   "cell_type": "code",
   "execution_count": 24,
   "id": "589c6631",
   "metadata": {},
   "outputs": [
    {
     "data": {
      "text/plain": [
       "array([[[ 0.16951415,  0.09679259,  0.0158539 , -0.02957525,\n",
       "         -0.02990372,  0.11645889, -0.18873233,  0.03171581,\n",
       "         -0.13561404, -0.05133811,  0.16859603,  0.03148628,\n",
       "         -0.12885311, -0.15046698,  0.10007538, -0.08050466,\n",
       "          0.09015167, -0.18901101, -0.02619152,  0.08439263,\n",
       "          0.09931664, -0.06642337, -0.2388582 , -0.01337829,\n",
       "          0.41621152, -0.07912167,  0.2905025 ,  0.10266475,\n",
       "         -0.11804989, -0.03196193, -0.23477376, -0.1796494 ]],\n",
       "\n",
       "       [[ 0.25610337, -0.03079755, -0.17623153,  0.08841568,\n",
       "          0.19260746, -0.05464605,  0.0362807 ,  0.08535143,\n",
       "         -0.06896732,  0.14356977,  0.143526  , -0.2691078 ,\n",
       "          0.01910075, -0.14281473, -0.09653199, -0.30118772,\n",
       "          0.3472096 , -0.15466866,  0.2781771 , -0.16865122,\n",
       "          0.08521943, -0.14797276,  0.03142658, -0.1657101 ,\n",
       "         -0.10695299,  0.19341284, -0.04127647,  0.2507141 ,\n",
       "         -0.33483887,  0.37313566, -0.1274563 , -0.02490261]],\n",
       "\n",
       "       [[-0.04796023, -0.12082339,  0.24715497,  0.0237629 ,\n",
       "          0.09674607,  0.06879003, -0.36628738,  0.12331867,\n",
       "         -0.13412486, -0.07502423, -0.17948215,  0.04548541,\n",
       "         -0.00356731, -0.02786673,  0.07267677, -0.23363537,\n",
       "          0.061897  ,  0.2018565 , -0.12507065, -0.10959298,\n",
       "          0.3046565 , -0.09402412,  0.19091791, -0.02030015,\n",
       "         -0.21557447,  0.18478502,  0.12209355, -0.03267059,\n",
       "         -0.2311135 ,  0.02124198,  0.24188846,  0.34800437]]],\n",
       "      dtype=float32)"
      ]
     },
     "execution_count": 24,
     "metadata": {},
     "output_type": "execute_result"
    }
   ],
   "source": [
    "autoencoder.get_weights()[0][1]"
   ]
  },
  {
   "cell_type": "code",
   "execution_count": 25,
   "id": "975b6ad8",
   "metadata": {},
   "outputs": [
    {
     "data": {
      "text/plain": [
       "array([[[ 0.16951415,  0.09679259,  0.0158539 , -0.02957525,\n",
       "         -0.02990372,  0.11645889, -0.18873233,  0.03171581,\n",
       "         -0.13561404, -0.05133811,  0.16859603,  0.03148628,\n",
       "         -0.12885311, -0.15046698,  0.10007538, -0.08050466,\n",
       "          0.09015167, -0.18901101, -0.02619152,  0.08439263,\n",
       "          0.09931664, -0.06642337, -0.2388582 , -0.01337829,\n",
       "          0.41621152, -0.07912167,  0.2905025 ,  0.10266475,\n",
       "         -0.11804989, -0.03196193, -0.23477376, -0.1796494 ]],\n",
       "\n",
       "       [[ 0.25610337, -0.03079755, -0.17623153,  0.08841568,\n",
       "          0.19260746, -0.05464605,  0.0362807 ,  0.08535143,\n",
       "         -0.06896732,  0.14356977,  0.143526  , -0.2691078 ,\n",
       "          0.01910075, -0.14281473, -0.09653199, -0.30118772,\n",
       "          0.3472096 , -0.15466866,  0.2781771 , -0.16865122,\n",
       "          0.08521943, -0.14797276,  0.03142658, -0.1657101 ,\n",
       "         -0.10695299,  0.19341284, -0.04127647,  0.2507141 ,\n",
       "         -0.33483887,  0.37313566, -0.1274563 , -0.02490261]],\n",
       "\n",
       "       [[-0.04796023, -0.12082339,  0.24715497,  0.0237629 ,\n",
       "          0.09674607,  0.06879003, -0.36628738,  0.12331867,\n",
       "         -0.13412486, -0.07502423, -0.17948215,  0.04548541,\n",
       "         -0.00356731, -0.02786673,  0.07267677, -0.23363537,\n",
       "          0.061897  ,  0.2018565 , -0.12507065, -0.10959298,\n",
       "          0.3046565 , -0.09402412,  0.19091791, -0.02030015,\n",
       "         -0.21557447,  0.18478502,  0.12209355, -0.03267059,\n",
       "         -0.2311135 ,  0.02124198,  0.24188846,  0.34800437]]],\n",
       "      dtype=float32)"
      ]
     },
     "execution_count": 25,
     "metadata": {},
     "output_type": "execute_result"
    }
   ],
   "source": [
    "full_model.get_weights()[0][1]"
   ]
  },
  {
   "cell_type": "code",
   "execution_count": 26,
   "id": "2d1d7791",
   "metadata": {},
   "outputs": [],
   "source": [
    "for layer in full_model.layers[0:19]:\n",
    "    layer.trainable = False\n",
    "### Mantem os pesos antigos"
   ]
  },
  {
   "cell_type": "markdown",
   "id": "ad7cab2b",
   "metadata": {},
   "source": [
    "## Juntando Tudo"
   ]
  },
  {
   "cell_type": "code",
   "execution_count": 28,
   "id": "1f864133",
   "metadata": {},
   "outputs": [
    {
     "name": "stdout",
     "output_type": "stream",
     "text": [
      "Model: \"model_3\"\n",
      "_________________________________________________________________\n",
      "Layer (type)                 Output Shape              Param #   \n",
      "=================================================================\n",
      "input_1 (InputLayer)         [(None, 28, 28, 1)]       0         \n",
      "_________________________________________________________________\n",
      "conv2d_45 (Conv2D)           (None, 28, 28, 32)        320       \n",
      "_________________________________________________________________\n",
      "batch_normalization_42 (Batc (None, 28, 28, 32)        128       \n",
      "_________________________________________________________________\n",
      "conv2d_46 (Conv2D)           (None, 28, 28, 32)        9248      \n",
      "_________________________________________________________________\n",
      "batch_normalization_43 (Batc (None, 28, 28, 32)        128       \n",
      "_________________________________________________________________\n",
      "max_pooling2d_6 (MaxPooling2 (None, 14, 14, 32)        0         \n",
      "_________________________________________________________________\n",
      "conv2d_47 (Conv2D)           (None, 14, 14, 64)        18496     \n",
      "_________________________________________________________________\n",
      "batch_normalization_44 (Batc (None, 14, 14, 64)        256       \n",
      "_________________________________________________________________\n",
      "conv2d_48 (Conv2D)           (None, 14, 14, 64)        36928     \n",
      "_________________________________________________________________\n",
      "batch_normalization_45 (Batc (None, 14, 14, 64)        256       \n",
      "_________________________________________________________________\n",
      "max_pooling2d_7 (MaxPooling2 (None, 7, 7, 64)          0         \n",
      "_________________________________________________________________\n",
      "conv2d_49 (Conv2D)           (None, 7, 7, 128)         73856     \n",
      "_________________________________________________________________\n",
      "batch_normalization_46 (Batc (None, 7, 7, 128)         512       \n",
      "_________________________________________________________________\n",
      "conv2d_50 (Conv2D)           (None, 7, 7, 128)         147584    \n",
      "_________________________________________________________________\n",
      "batch_normalization_47 (Batc (None, 7, 7, 128)         512       \n",
      "_________________________________________________________________\n",
      "conv2d_51 (Conv2D)           (None, 7, 7, 256)         295168    \n",
      "_________________________________________________________________\n",
      "batch_normalization_48 (Batc (None, 7, 7, 256)         1024      \n",
      "_________________________________________________________________\n",
      "conv2d_52 (Conv2D)           (None, 7, 7, 256)         590080    \n",
      "_________________________________________________________________\n",
      "batch_normalization_49 (Batc (None, 7, 7, 256)         1024      \n",
      "_________________________________________________________________\n",
      "flatten (Flatten)            (None, 12544)             0         \n",
      "_________________________________________________________________\n",
      "dense (Dense)                (None, 128)               1605760   \n",
      "_________________________________________________________________\n",
      "dense_1 (Dense)              (None, 10)                1290      \n",
      "=================================================================\n",
      "Total params: 2,782,570\n",
      "Trainable params: 1,607,050\n",
      "Non-trainable params: 1,175,520\n",
      "_________________________________________________________________\n"
     ]
    }
   ],
   "source": [
    "full_model.compile(loss=tensorflow.keras.losses.categorical_crossentropy, optimizer=tensorflow.keras.optimizers.Adam(),metrics=['accuracy'])\n",
    "full_model.summary()"
   ]
  },
  {
   "cell_type": "markdown",
   "id": "829e7391",
   "metadata": {},
   "source": [
    "## Treinando o Classificador (CNN) Com o Autoencoder"
   ]
  },
  {
   "cell_type": "code",
   "execution_count": 29,
   "id": "b396e1ea",
   "metadata": {},
   "outputs": [
    {
     "name": "stdout",
     "output_type": "stream",
     "text": [
      "Epoch 1/5\n",
      "750/750 [==============================] - 50s 65ms/step - loss: 0.4171 - accuracy: 0.8661 - val_loss: 0.3052 - val_accuracy: 0.8937\n",
      "Epoch 2/5\n",
      "750/750 [==============================] - 69s 92ms/step - loss: 0.2490 - accuracy: 0.9092 - val_loss: 0.2991 - val_accuracy: 0.8943\n",
      "Epoch 3/5\n",
      "750/750 [==============================] - 58s 77ms/step - loss: 0.2099 - accuracy: 0.9221 - val_loss: 0.3096 - val_accuracy: 0.8981\n",
      "Epoch 4/5\n",
      "750/750 [==============================] - 57s 76ms/step - loss: 0.1880 - accuracy: 0.9294 - val_loss: 0.2890 - val_accuracy: 0.9043\n",
      "Epoch 5/5\n",
      "750/750 [==============================] - 57s 76ms/step - loss: 0.1650 - accuracy: 0.9381 - val_loss: 0.3050 - val_accuracy: 0.8989\n"
     ]
    }
   ],
   "source": [
    "classify_train = full_model.fit(train_X, train_label, batch_size=64,epochs=5,verbose=1,validation_data=(valid_X, valid_label))\n"
   ]
  },
  {
   "cell_type": "code",
   "execution_count": 30,
   "id": "5a747bd7",
   "metadata": {},
   "outputs": [],
   "source": [
    "for layer in full_model.layers[0:19]:\n",
    "    layer.trainable = True\n",
    "### Atualiza ate a camada 19"
   ]
  },
  {
   "cell_type": "markdown",
   "id": "98f00b35",
   "metadata": {},
   "source": [
    "## Recompilando pra Atualizar os Pesos"
   ]
  },
  {
   "cell_type": "code",
   "execution_count": 33,
   "id": "335aee98",
   "metadata": {},
   "outputs": [],
   "source": [
    "full_model.compile(loss = tensorflow.keras.losses.categorical_crossentropy, optimizer=tensorflow.keras.optimizers.Adam(),metrics=['accuracy'])"
   ]
  },
  {
   "cell_type": "markdown",
   "id": "22c5a530",
   "metadata": {},
   "source": [
    "## Finaliando o Processo"
   ]
  },
  {
   "cell_type": "code",
   "execution_count": 35,
   "id": "8f4c7280",
   "metadata": {},
   "outputs": [
    {
     "name": "stdout",
     "output_type": "stream",
     "text": [
      "Epoch 1/5\n",
      "750/750 [==============================] - 184s 246ms/step - loss: 0.2155 - accuracy: 0.9223 - val_loss: 16.9804 - val_accuracy: 0.8708\n",
      "Epoch 2/5\n",
      "750/750 [==============================] - 214s 285ms/step - loss: 0.1607 - accuracy: 0.9412 - val_loss: 0.2734 - val_accuracy: 0.9108\n",
      "Epoch 3/5\n",
      "750/750 [==============================] - 233s 311ms/step - loss: 0.1277 - accuracy: 0.9524 - val_loss: 0.2946 - val_accuracy: 0.9112\n",
      "Epoch 4/5\n",
      "750/750 [==============================] - 228s 303ms/step - loss: 0.1036 - accuracy: 0.9620 - val_loss: 0.2977 - val_accuracy: 0.9186\n",
      "Epoch 5/5\n",
      "750/750 [==============================] - 229s 305ms/step - loss: 0.0839 - accuracy: 0.9696 - val_loss: 0.3369 - val_accuracy: 0.9138\n"
     ]
    }
   ],
   "source": [
    "classify_train = full_model.fit(train_X, train_label, batch_size=64,epochs=5,verbose=1,validation_data=(valid_X, valid_label))\n"
   ]
  },
  {
   "cell_type": "markdown",
   "id": "23bfc20b",
   "metadata": {},
   "source": [
    "## Acurácia do Classificador (treino)"
   ]
  },
  {
   "cell_type": "code",
   "execution_count": 39,
   "id": "fb1085b5",
   "metadata": {},
   "outputs": [
    {
     "data": {
      "image/png": "[encoded data removed]",
      "text/plain": [
       "<Figure size 432x288 with 1 Axes>"
      ]
     },
     "metadata": {
      "needs_background": "light"
     },
     "output_type": "display_data"
    },
    {
     "data": {
      "image/png": "[encoded data removed]",
      "text/plain": [
       "<Figure size 432x288 with 1 Axes>"
      ]
     },
     "metadata": {
      "needs_background": "light"
     },
     "output_type": "display_data"
    }
   ],
   "source": [
    "accuracy = classify_train.history['accuracy']\n",
    "val_accuracy = classify_train.history['val_accuracy']\n",
    "loss = classify_train.history['loss']\n",
    "val_loss = classify_train.history['val_loss']\n",
    "epochs = range(len(accuracy))\n",
    "plt.plot(epochs, accuracy, 'bo', label='Acurácia de treino')\n",
    "plt.plot(epochs, val_accuracy, 'b', label='Acurácia da validação')\n",
    "plt.title(' Acurácias de treino e validação')\n",
    "plt.legend()\n",
    "plt.figure()\n",
    "plt.plot(epochs, loss, 'bo', label='loss do treino')\n",
    "plt.plot(epochs, val_loss, 'b', label='loss da validação')\n",
    "plt.title('Loss de treino e validação')\n",
    "plt.legend()\n",
    "plt.show()"
   ]
  },
  {
   "cell_type": "markdown",
   "id": "d583a1e7",
   "metadata": {},
   "source": [
    "## Acurácia do Classificador (teste)"
   ]
  },
  {
   "cell_type": "code",
   "execution_count": 40,
   "id": "ce4ca537",
   "metadata": {},
   "outputs": [
    {
     "name": "stdout",
     "output_type": "stream",
     "text": [
      "loss do teste: 0.3221355080604553\n",
      "Acurácia do teste: 0.9151999950408936\n"
     ]
    }
   ],
   "source": [
    "test_eval = full_model.evaluate(test_data, test_Y_one_hot, verbose=0)\n",
    "print('loss do teste:', test_eval[0])\n",
    "print('Acurácia do teste:', test_eval[1])\n"
   ]
  },
  {
   "cell_type": "code",
   "execution_count": 41,
   "id": "3648729a",
   "metadata": {},
   "outputs": [
    {
     "data": {
      "text/plain": [
       "((10000,), (10000,))"
      ]
     },
     "execution_count": 41,
     "metadata": {},
     "output_type": "execute_result"
    }
   ],
   "source": [
    "predicted_classes = full_model.predict(test_data)\n",
    "predicted_classes = np.argmax(np.round(predicted_classes),axis=1)\n",
    "predicted_classes.shape, test_labels.shape"
   ]
  },
  {
   "cell_type": "code",
   "execution_count": 43,
   "id": "eb540727",
   "metadata": {},
   "outputs": [
    {
     "name": "stdout",
     "output_type": "stream",
     "text": [
      "Found 9136 correct labels\n"
     ]
    },
    {
     "data": {
      "image/png": "[encoded data removed]",
      "text/plain": [
       "<Figure size 432x288 with 8 Axes>"
      ]
     },
     "metadata": {
      "needs_background": "light"
     },
     "output_type": "display_data"
    }
   ],
   "source": [
    "correct = np.where(predicted_classes==test_labels)[0]\n",
    "print (\"Found %d correct labels\" % len(correct))\n",
    "for i, correct in enumerate(correct[:9]):\n",
    "    plt.subplot(3,3,i+1)\n",
    "    plt.imshow(test_data[correct].reshape(28,28), cmap='gray', interpolation='none')\n",
    "    plt.title(\"Predicted {}, Class {}\".format(predicted_classes[correct], test_labels[correct]))\n",
    "    plt.tight_layout()"
   ]
  },
  {
   "cell_type": "code",
   "execution_count": 44,
   "id": "109075a5",
   "metadata": {},
   "outputs": [
    {
     "name": "stdout",
     "output_type": "stream",
     "text": [
      "Found 864 incorrect labels\n"
     ]
    },
    {
     "data": {
      "image/png": "[encoded data removed]",
      "text/plain": [
       "<Figure size 432x288 with 8 Axes>"
      ]
     },
     "metadata": {
      "needs_background": "light"
     },
     "output_type": "display_data"
    }
   ],
   "source": [
    "incorrect = np.where(predicted_classes!=test_labels)[0]\n",
    "print (\"Found %d incorrect labels\" % len(incorrect))\n",
    "for i, incorrect in enumerate(incorrect[:9]):\n",
    "    plt.subplot(3,3,i+1)\n",
    "    plt.imshow(test_data[incorrect].reshape(28,28), cmap='gray', interpolation='none')\n",
    "    plt.title(\"Predicted {}, Class {}\".format(predicted_classes[incorrect], test_labels[incorrect]))\n",
    "    plt.tight_layout()\n"
   ]
  },
  {
   "cell_type": "markdown",
   "id": "e94fa57f",
   "metadata": {},
   "source": [
    "## Relatorio do SKLearn"
   ]
  },
  {
   "cell_type": "code",
   "execution_count": 45,
   "id": "3ef4c980",
   "metadata": {},
   "outputs": [
    {
     "name": "stdout",
     "output_type": "stream",
     "text": [
      "              precision    recall  f1-score   support\n",
      "\n",
      "     Class 0       0.82      0.88      0.85      1000\n",
      "     Class 1       0.99      0.98      0.98      1000\n",
      "     Class 2       0.88      0.89      0.88      1000\n",
      "     Class 3       0.92      0.90      0.91      1000\n",
      "     Class 4       0.82      0.91      0.86      1000\n",
      "     Class 5       0.99      0.97      0.98      1000\n",
      "     Class 6       0.83      0.71      0.76      1000\n",
      "     Class 7       0.94      0.96      0.95      1000\n",
      "     Class 8       0.99      0.98      0.98      1000\n",
      "     Class 9       0.96      0.96      0.96      1000\n",
      "\n",
      "    accuracy                           0.91     10000\n",
      "   macro avg       0.91      0.91      0.91     10000\n",
      "weighted avg       0.91      0.91      0.91     10000\n",
      "\n"
     ]
    }
   ],
   "source": [
    "from sklearn.metrics import classification_report\n",
    "target_names = [\"Class {}\".format(i) for i in range(num_classes)]\n",
    "print(classification_report(test_labels, predicted_classes, target_names=target_names))"
   ]
  },
  {
   "cell_type": "markdown",
   "id": "844f2fd0",
   "metadata": {},
   "source": [
    "URL de download das imagens:\n",
    "https://github.com/zalandoresearch/fashion-mnist"
   ]
  }
 ],
 "metadata": {
  "kernelspec": {
   "display_name": "Python 3",
   "language": "python",
   "name": "python3"
  },
  "language_info": {
   "codemirror_mode": {
    "name": "ipython",
    "version": 3
   },
   "file_extension": ".py",
   "mimetype": "text/x-python",
   "name": "python",
   "nbconvert_exporter": "python",
   "pygments_lexer": "ipython3",
   "version": "3.8.8"
  }
 },
 "nbformat": 4,
 "nbformat_minor": 5
}
