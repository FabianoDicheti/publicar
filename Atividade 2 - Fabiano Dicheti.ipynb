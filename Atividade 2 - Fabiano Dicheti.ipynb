{
 "cells": [
  {
   "cell_type": "markdown",
   "id": "ecef0553",
   "metadata": {},
   "source": [
    "# Atividade 02 - Inteligência Computacional\n",
    "## Fabiano Dicheti"
   ]
  },
  {
   "cell_type": "markdown",
   "id": "db9bab23",
   "metadata": {},
   "source": [
    "#### Aplicar uma Rede Neural Convolucional na base de dados MNIST, avaliando sua acurácia em conjuntos de treinamento e teste. "
   ]
  },
  {
   "cell_type": "markdown",
   "id": "26eb3249",
   "metadata": {},
   "source": [
    "### As Redes Neurais Convolucionais, sao algoritmos aplicados predominantemente a imagens. Faz uso de  uma  arquitetura que \"aprende\" pesos compartilhados entre kernels de convolução ou filtros, que deslizam ao longo das  imagens, produzindo matrizes com suas características (mapas de características)."
   ]
  },
  {
   "cell_type": "markdown",
   "id": "553ba115",
   "metadata": {},
   "source": [
    "## Importando as Bibliotecas"
   ]
  },
  {
   "cell_type": "code",
   "execution_count": 3,
   "id": "76db61d0",
   "metadata": {},
   "outputs": [],
   "source": [
    "import numpy as np\n",
    "from tensorflow import keras\n",
    "from tensorflow.keras import layers\n",
    "import pandas as pd\n",
    "import matplotlib.pyplot as plt\n",
    "%matplotlib inline"
   ]
  },
  {
   "cell_type": "markdown",
   "id": "5f75a0cc",
   "metadata": {},
   "source": [
    "## Definindo Parâmetros"
   ]
  },
  {
   "cell_type": "code",
   "execution_count": 4,
   "id": "73a5fa75",
   "metadata": {},
   "outputs": [],
   "source": [
    "num_classes = 10\n",
    "input_shape = (28, 28, 1)"
   ]
  },
  {
   "cell_type": "markdown",
   "id": "0dcb5fb2",
   "metadata": {},
   "source": [
    "## Carregando os Dados, Separados em Conjunto de Teste e Treinamento"
   ]
  },
  {
   "cell_type": "code",
   "execution_count": 5,
   "id": "8bd8b534",
   "metadata": {},
   "outputs": [
    {
     "name": "stdout",
     "output_type": "stream",
     "text": [
      "Downloading data from https://storage.googleapis.com/tensorflow/tf-keras-datasets/mnist.npz\n",
      "11493376/11490434 [==============================] - 1s 0us/step\n"
     ]
    }
   ],
   "source": [
    "(x_train, y_train), (x_test, y_test) = keras.datasets.mnist.load_data()"
   ]
  },
  {
   "cell_type": "markdown",
   "id": "193a2abf",
   "metadata": {},
   "source": [
    "## Escalando o Valor dos Pixels das Imagens (0 a 1)"
   ]
  },
  {
   "cell_type": "code",
   "execution_count": 6,
   "id": "f87e16c3",
   "metadata": {},
   "outputs": [],
   "source": [
    "x_train = x_train.astype(\"float32\") / 255\n",
    "x_test = x_test.astype(\"float32\") / 255\n",
    "\n",
    "x_train = np.expand_dims(x_train, -1)\n",
    "x_test = np.expand_dims(x_test, -1)"
   ]
  },
  {
   "cell_type": "markdown",
   "id": "bc1e8390",
   "metadata": {},
   "source": [
    "## Convertendo as Classes em Matrizes de Valores Binários"
   ]
  },
  {
   "cell_type": "code",
   "execution_count": 7,
   "id": "4e34b39f",
   "metadata": {},
   "outputs": [],
   "source": [
    "y_train = keras.utils.to_categorical(y_train, num_classes)\n",
    "y_test = keras.utils.to_categorical(y_test, num_classes)"
   ]
  },
  {
   "cell_type": "code",
   "execution_count": 8,
   "id": "daa20ec5",
   "metadata": {},
   "outputs": [
    {
     "name": "stdout",
     "output_type": "stream",
     "text": [
      "x_train shape: (60000, 28, 28, 1)\n",
      "60000 train samples\n",
      "10000 test samples\n"
     ]
    }
   ],
   "source": [
    "print(\"x_train shape:\", x_train.shape)\n",
    "print(x_train.shape[0], \"train samples\")\n",
    "print(x_test.shape[0], \"test samples\")"
   ]
  },
  {
   "cell_type": "markdown",
   "id": "b3395f01",
   "metadata": {},
   "source": [
    "## Arquitetura da CNN"
   ]
  },
  {
   "cell_type": "code",
   "execution_count": 9,
   "id": "f2e90518",
   "metadata": {},
   "outputs": [
    {
     "name": "stdout",
     "output_type": "stream",
     "text": [
      "WARNING:tensorflow:Please add `keras.layers.InputLayer` instead of `keras.Input` to Sequential model. `keras.Input` is intended to be used by Functional model.\n",
      "Model: \"sequential\"\n",
      "_________________________________________________________________\n",
      "Layer (type)                 Output Shape              Param #   \n",
      "=================================================================\n",
      "conv2d (Conv2D)              (None, 26, 26, 32)        320       \n",
      "_________________________________________________________________\n",
      "max_pooling2d (MaxPooling2D) (None, 13, 13, 32)        0         \n",
      "_________________________________________________________________\n",
      "conv2d_1 (Conv2D)            (None, 11, 11, 64)        18496     \n",
      "_________________________________________________________________\n",
      "max_pooling2d_1 (MaxPooling2 (None, 5, 5, 64)          0         \n",
      "_________________________________________________________________\n",
      "flatten (Flatten)            (None, 1600)              0         \n",
      "_________________________________________________________________\n",
      "dropout (Dropout)            (None, 1600)              0         \n",
      "_________________________________________________________________\n",
      "dense (Dense)                (None, 10)                16010     \n",
      "=================================================================\n",
      "Total params: 34,826\n",
      "Trainable params: 34,826\n",
      "Non-trainable params: 0\n",
      "_________________________________________________________________\n"
     ]
    }
   ],
   "source": [
    "model = keras.Sequential(\n",
    "    [\n",
    "        keras.Input(shape=input_shape),\n",
    "        layers.Conv2D(32, kernel_size=(3, 3), activation=\"relu\"),\n",
    "        layers.MaxPooling2D(pool_size=(2, 2)),\n",
    "        layers.Conv2D(64, kernel_size=(3, 3), activation=\"relu\"),\n",
    "        layers.MaxPooling2D(pool_size=(2, 2)),\n",
    "        layers.Flatten(),\n",
    "        layers.Dropout(0.5),\n",
    "        layers.Dense(num_classes, activation=\"softmax\"),\n",
    "    ]\n",
    ")\n",
    "\n",
    "model.summary()"
   ]
  },
  {
   "cell_type": "markdown",
   "id": "ac92e1e7",
   "metadata": {},
   "source": [
    "## Treinando a Arquitetura, Gerando Modelo"
   ]
  },
  {
   "cell_type": "code",
   "execution_count": 10,
   "id": "d7b06c2a",
   "metadata": {},
   "outputs": [
    {
     "name": "stdout",
     "output_type": "stream",
     "text": [
      "Epoch 1/15\n",
      "422/422 [==============================] - 17s 39ms/step - loss: 0.3587 - accuracy: 0.8916 - val_loss: 0.0809 - val_accuracy: 0.9782\n",
      "Epoch 2/15\n",
      "422/422 [==============================] - 17s 40ms/step - loss: 0.1090 - accuracy: 0.9667 - val_loss: 0.0567 - val_accuracy: 0.9850\n",
      "Epoch 3/15\n",
      "422/422 [==============================] - 24s 57ms/step - loss: 0.0835 - accuracy: 0.9743 - val_loss: 0.0454 - val_accuracy: 0.9880\n",
      "Epoch 4/15\n",
      "422/422 [==============================] - 27s 64ms/step - loss: 0.0722 - accuracy: 0.9779 - val_loss: 0.0429 - val_accuracy: 0.9878\n",
      "Epoch 5/15\n",
      "422/422 [==============================] - 22s 52ms/step - loss: 0.0642 - accuracy: 0.9797 - val_loss: 0.0387 - val_accuracy: 0.9900\n",
      "Epoch 6/15\n",
      "422/422 [==============================] - 20s 48ms/step - loss: 0.0538 - accuracy: 0.9832 - val_loss: 0.0335 - val_accuracy: 0.9910\n",
      "Epoch 7/15\n",
      "422/422 [==============================] - 20s 47ms/step - loss: 0.0519 - accuracy: 0.9838 - val_loss: 0.0326 - val_accuracy: 0.9902\n",
      "Epoch 8/15\n",
      "422/422 [==============================] - 21s 49ms/step - loss: 0.0460 - accuracy: 0.9858 - val_loss: 0.0328 - val_accuracy: 0.9910\n",
      "Epoch 9/15\n",
      "422/422 [==============================] - 20s 47ms/step - loss: 0.0430 - accuracy: 0.9859 - val_loss: 0.0327 - val_accuracy: 0.9912\n",
      "Epoch 10/15\n",
      "422/422 [==============================] - 22s 52ms/step - loss: 0.0420 - accuracy: 0.9863 - val_loss: 0.0315 - val_accuracy: 0.9913\n",
      "Epoch 11/15\n",
      "422/422 [==============================] - 29s 69ms/step - loss: 0.0383 - accuracy: 0.9874 - val_loss: 0.0303 - val_accuracy: 0.9917\n",
      "Epoch 12/15\n",
      "422/422 [==============================] - 23s 55ms/step - loss: 0.0359 - accuracy: 0.9884 - val_loss: 0.0291 - val_accuracy: 0.9925\n",
      "Epoch 13/15\n",
      "422/422 [==============================] - 25s 60ms/step - loss: 0.0364 - accuracy: 0.9880 - val_loss: 0.0284 - val_accuracy: 0.9917\n",
      "Epoch 14/15\n",
      "422/422 [==============================] - 25s 60ms/step - loss: 0.0345 - accuracy: 0.9888 - val_loss: 0.0269 - val_accuracy: 0.9922\n",
      "Epoch 15/15\n",
      "422/422 [==============================] - 18s 42ms/step - loss: 0.0336 - accuracy: 0.9888 - val_loss: 0.0274 - val_accuracy: 0.9915\n"
     ]
    },
    {
     "data": {
      "text/plain": [
       "<tensorflow.python.keras.callbacks.History at 0x7fdb68e4c820>"
      ]
     },
     "execution_count": 10,
     "metadata": {},
     "output_type": "execute_result"
    }
   ],
   "source": [
    "batch_size = 128\n",
    "epochs = 15\n",
    "\n",
    "model.compile(loss=\"categorical_crossentropy\", optimizer=\"adam\", metrics=[\"accuracy\"])\n",
    "\n",
    "model.fit(x_train, y_train, batch_size=batch_size, epochs=epochs, validation_split=0.1)"
   ]
  },
  {
   "cell_type": "markdown",
   "id": "79b1d314",
   "metadata": {},
   "source": [
    "## Avaliação do Modelo"
   ]
  },
  {
   "cell_type": "code",
   "execution_count": 11,
   "id": "0dd182ba",
   "metadata": {},
   "outputs": [
    {
     "name": "stdout",
     "output_type": "stream",
     "text": [
      "Test loss: 0.025213010609149933\n",
      "Test accuracy: 0.9911999702453613\n"
     ]
    }
   ],
   "source": [
    "score = model.evaluate(x_test, y_test, verbose=0)\n",
    "print(\"Test loss:\", score[0])\n",
    "print(\"Test accuracy:\", score[1])"
   ]
  },
  {
   "cell_type": "markdown",
   "id": "084072a2",
   "metadata": {},
   "source": [
    "### No treinamento a acuracia iniciou em 89,16% e concluiu em 98,88% (60 mil imagens)\n",
    "### O valor da acuracia para o teste foi de 99,11% (10 mil imagens)\n"
   ]
  }
 ],
 "metadata": {
  "kernelspec": {
   "display_name": "Python 3",
   "language": "python",
   "name": "python3"
  },
  "language_info": {
   "codemirror_mode": {
    "name": "ipython",
    "version": 3
   },
   "file_extension": ".py",
   "mimetype": "text/x-python",
   "name": "python",
   "nbconvert_exporter": "python",
   "pygments_lexer": "ipython3",
   "version": "3.8.8"
  }
 },
 "nbformat": 4,
 "nbformat_minor": 5
}
