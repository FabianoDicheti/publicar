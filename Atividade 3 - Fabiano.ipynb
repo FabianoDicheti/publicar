{
 "cells": [
  {
   "cell_type": "markdown",
   "id": "5853caca",
   "metadata": {},
   "source": [
    "# Atividade 03 - Inteligência Computacional\n",
    "## Fabiano Dicheti"
   ]
  },
  {
   "cell_type": "markdown",
   "id": "4b2655a3",
   "metadata": {},
   "source": [
    "#### Aplicar uma Rede Neural Recorrente na base de dados IMDB, avaliando sua acurácia em conjuntos de treinamento e teste. "
   ]
  },
  {
   "cell_type": "markdown",
   "id": "ad1e5211",
   "metadata": {},
   "source": [
    "### RNNs Sao redes onde as conexões entre os nós formam um ciclo, de modo que, a saída de um dado nó afete a entrada subsequente no mesmos nó. Esta característica faz com que este tipo de rede seja mais empregada em dados que apresentem alguma dependência  ou organização  temporal."
   ]
  },
  {
   "cell_type": "markdown",
   "id": "fd1552e8",
   "metadata": {},
   "source": [
    "## Importando as Bibliotecas"
   ]
  },
  {
   "cell_type": "code",
   "execution_count": 9,
   "id": "bdf7b81c",
   "metadata": {},
   "outputs": [],
   "source": [
    "from __future__ import print_function\n",
    "from tensorflow.keras import layers\n",
    "from tensorflow.keras.preprocessing import sequence\n",
    "from tensorflow.keras.models import Sequential\n",
    "from tensorflow.keras.layers import Dense, Embedding\n",
    "from tensorflow.keras.layers import LSTM\n",
    "from tensorflow.keras.datasets import imdb"
   ]
  },
  {
   "cell_type": "markdown",
   "id": "625ee42f",
   "metadata": {},
   "source": [
    "## Definindo Parametros"
   ]
  },
  {
   "cell_type": "code",
   "execution_count": 3,
   "id": "c6f34230",
   "metadata": {},
   "outputs": [],
   "source": [
    "max_features = 20000\n",
    "maxlen = 80  # Limite de palavras por frase\n",
    "batch_size = 32"
   ]
  },
  {
   "cell_type": "markdown",
   "id": "20487318",
   "metadata": {},
   "source": [
    "## Carregando os Dados, Separados em Conjunto de Teste e Treinamento"
   ]
  },
  {
   "cell_type": "code",
   "execution_count": 4,
   "id": "3dcc97e3",
   "metadata": {},
   "outputs": [
    {
     "name": "stdout",
     "output_type": "stream",
     "text": [
      "Downloading data from https://storage.googleapis.com/tensorflow/tf-keras-datasets/imdb.npz\n",
      "17465344/17464789 [==============================] - 4s 0us/step\n"
     ]
    },
    {
     "name": "stderr",
     "output_type": "stream",
     "text": [
      "<__array_function__ internals>:5: VisibleDeprecationWarning: Creating an ndarray from ragged nested sequences (which is a list-or-tuple of lists-or-tuples-or ndarrays with different lengths or shapes) is deprecated. If you meant to do this, you must specify 'dtype=object' when creating the ndarray\n",
      "/Users/fabianodicheti/anaconda3/lib/python3.8/site-packages/tensorflow/python/keras/datasets/imdb.py:155: VisibleDeprecationWarning: Creating an ndarray from ragged nested sequences (which is a list-or-tuple of lists-or-tuples-or ndarrays with different lengths or shapes) is deprecated. If you meant to do this, you must specify 'dtype=object' when creating the ndarray\n",
      "  x_train, y_train = np.array(xs[:idx]), np.array(labels[:idx])\n",
      "/Users/fabianodicheti/anaconda3/lib/python3.8/site-packages/tensorflow/python/keras/datasets/imdb.py:156: VisibleDeprecationWarning: Creating an ndarray from ragged nested sequences (which is a list-or-tuple of lists-or-tuples-or ndarrays with different lengths or shapes) is deprecated. If you meant to do this, you must specify 'dtype=object' when creating the ndarray\n",
      "  x_test, y_test = np.array(xs[idx:]), np.array(labels[idx:])\n"
     ]
    }
   ],
   "source": [
    "(x_train, y_train), (x_test, y_test) = imdb.load_data(num_words=max_features)"
   ]
  },
  {
   "cell_type": "markdown",
   "id": "e42534d8",
   "metadata": {},
   "source": [
    "## Delimitando o Tamanho das Frases Nos Conjuntos"
   ]
  },
  {
   "cell_type": "code",
   "execution_count": 5,
   "id": "6e372297",
   "metadata": {},
   "outputs": [],
   "source": [
    "x_train = sequence.pad_sequences(x_train, maxlen=maxlen)\n",
    "x_test = sequence.pad_sequences(x_test, maxlen=maxlen)"
   ]
  },
  {
   "cell_type": "code",
   "execution_count": 6,
   "id": "32b9ddcb",
   "metadata": {},
   "outputs": [
    {
     "name": "stdout",
     "output_type": "stream",
     "text": [
      "x_train shape: (25000, 80)\n",
      "x_test shape: (25000, 80)\n"
     ]
    }
   ],
   "source": [
    "print('x_train shape:', x_train.shape)\n",
    "print('x_test shape:', x_test.shape)"
   ]
  },
  {
   "cell_type": "markdown",
   "id": "bc53cd53",
   "metadata": {},
   "source": [
    "## Arquitetura da RNN"
   ]
  },
  {
   "cell_type": "code",
   "execution_count": 11,
   "id": "8499787b",
   "metadata": {},
   "outputs": [
    {
     "name": "stdout",
     "output_type": "stream",
     "text": [
      "Model: \"sequential_3\"\n",
      "_________________________________________________________________\n",
      "Layer (type)                 Output Shape              Param #   \n",
      "=================================================================\n",
      "embedding_3 (Embedding)      (None, None, 128)         2560000   \n",
      "_________________________________________________________________\n",
      "lstm_3 (LSTM)                (None, 128)               131584    \n",
      "_________________________________________________________________\n",
      "dense_3 (Dense)              (None, 1)                 129       \n",
      "=================================================================\n",
      "Total params: 2,691,713\n",
      "Trainable params: 2,691,713\n",
      "Non-trainable params: 0\n",
      "_________________________________________________________________\n"
     ]
    }
   ],
   "source": [
    "model = Sequential()\n",
    "model.add(Embedding(max_features, 128))\n",
    "model.add(LSTM(128, dropout=0.2, recurrent_dropout=0.2))\n",
    "model.add(Dense(1, activation='sigmoid'))\n",
    "\n",
    "model.summary()"
   ]
  },
  {
   "cell_type": "markdown",
   "id": "26bfd2d3",
   "metadata": {},
   "source": [
    "## Treinando a Arquitetura, Gerando Modelo"
   ]
  },
  {
   "cell_type": "code",
   "execution_count": 12,
   "id": "496f0439",
   "metadata": {},
   "outputs": [
    {
     "name": "stdout",
     "output_type": "stream",
     "text": [
      "Epoch 1/15\n",
      "782/782 [==============================] - 116s 146ms/step - loss: 0.4362 - accuracy: 0.7952 - val_loss: 0.3723 - val_accuracy: 0.8397\n",
      "Epoch 2/15\n",
      "782/782 [==============================] - 113s 144ms/step - loss: 0.2584 - accuracy: 0.8977 - val_loss: 0.3758 - val_accuracy: 0.8361\n",
      "Epoch 3/15\n",
      "782/782 [==============================] - 116s 148ms/step - loss: 0.1656 - accuracy: 0.9389 - val_loss: 0.5951 - val_accuracy: 0.8150\n",
      "Epoch 4/15\n",
      "782/782 [==============================] - 106s 135ms/step - loss: 0.1040 - accuracy: 0.9622 - val_loss: 0.5315 - val_accuracy: 0.8225\n",
      "Epoch 5/15\n",
      "782/782 [==============================] - 102s 131ms/step - loss: 0.0698 - accuracy: 0.9756 - val_loss: 0.7251 - val_accuracy: 0.8140\n",
      "Epoch 6/15\n",
      "782/782 [==============================] - 105s 134ms/step - loss: 0.0533 - accuracy: 0.9818 - val_loss: 0.6854 - val_accuracy: 0.8018\n",
      "Epoch 7/15\n",
      "782/782 [==============================] - 102s 130ms/step - loss: 0.0374 - accuracy: 0.9878 - val_loss: 0.7923 - val_accuracy: 0.8129\n",
      "Epoch 8/15\n",
      "782/782 [==============================] - 103s 132ms/step - loss: 0.0340 - accuracy: 0.9890 - val_loss: 0.7852 - val_accuracy: 0.8108\n",
      "Epoch 9/15\n",
      "782/782 [==============================] - 98s 125ms/step - loss: 0.0212 - accuracy: 0.9934 - val_loss: 0.9113 - val_accuracy: 0.8122\n",
      "Epoch 10/15\n",
      "782/782 [==============================] - 99s 126ms/step - loss: 0.0222 - accuracy: 0.9931 - val_loss: 0.9567 - val_accuracy: 0.8146\n",
      "Epoch 11/15\n",
      "782/782 [==============================] - 97s 124ms/step - loss: 0.0122 - accuracy: 0.9961 - val_loss: 1.0925 - val_accuracy: 0.8078\n",
      "Epoch 12/15\n",
      "782/782 [==============================] - 100s 128ms/step - loss: 0.0209 - accuracy: 0.9930 - val_loss: 1.0382 - val_accuracy: 0.8107\n",
      "Epoch 13/15\n",
      "782/782 [==============================] - 105s 134ms/step - loss: 0.0096 - accuracy: 0.9970 - val_loss: 1.0616 - val_accuracy: 0.8106\n",
      "Epoch 14/15\n",
      "782/782 [==============================] - 99s 127ms/step - loss: 0.0077 - accuracy: 0.9974 - val_loss: 1.0357 - val_accuracy: 0.7980\n",
      "Epoch 15/15\n",
      "782/782 [==============================] - 96s 123ms/step - loss: 0.0076 - accuracy: 0.9974 - val_loss: 1.1087 - val_accuracy: 0.8131\n"
     ]
    },
    {
     "data": {
      "text/plain": [
       "<tensorflow.python.keras.callbacks.History at 0x7fc920adf790>"
      ]
     },
     "execution_count": 12,
     "metadata": {},
     "output_type": "execute_result"
    }
   ],
   "source": [
    "model.compile(loss='binary_crossentropy',\n",
    "              optimizer='adam',\n",
    "              metrics=['accuracy'])\n",
    "\n",
    "model.fit(x_train, y_train,\n",
    "          batch_size=batch_size,\n",
    "          epochs=15,\n",
    "          validation_data=(x_test, y_test))"
   ]
  },
  {
   "cell_type": "markdown",
   "id": "43b27efc",
   "metadata": {},
   "source": [
    "## Avaliação do Modelo"
   ]
  },
  {
   "cell_type": "code",
   "execution_count": 14,
   "id": "613e163d",
   "metadata": {},
   "outputs": [
    {
     "name": "stdout",
     "output_type": "stream",
     "text": [
      "Teste loss: 1.1086660623550415\n",
      "Teste accurácia: 0.8131200075149536\n"
     ]
    }
   ],
   "source": [
    "score = model.evaluate(x_test, y_test, verbose=0)\n",
    "print(\"Teste loss:\", score[0])\n",
    "print(\"Teste accurácia:\", score[1])"
   ]
  },
  {
   "cell_type": "markdown",
   "id": "ff1da2b9",
   "metadata": {},
   "source": [
    "### No treinamento a acuracia iniciou em 79,52% e concluiu em 99,74%\n",
    "### O valor da acuracia para o teste foi de 81,31% (10 mil imagens)"
   ]
  },
  {
   "cell_type": "code",
   "execution_count": null,
   "id": "1db54660",
   "metadata": {},
   "outputs": [],
   "source": []
  }
 ],
 "metadata": {
  "kernelspec": {
   "display_name": "Python 3",
   "language": "python",
   "name": "python3"
  },
  "language_info": {
   "codemirror_mode": {
    "name": "ipython",
    "version": 3
   },
   "file_extension": ".py",
   "mimetype": "text/x-python",
   "name": "python",
   "nbconvert_exporter": "python",
   "pygments_lexer": "ipython3",
   "version": "3.8.8"
  }
 },
 "nbformat": 4,
 "nbformat_minor": 5
}
